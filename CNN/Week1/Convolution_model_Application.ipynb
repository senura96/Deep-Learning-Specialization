{
 "cells": [
  {
   "cell_type": "markdown",
   "metadata": {},
   "source": [
    "# Convolutional Neural Networks: Application\n",
    "\n",
    "Welcome to Course 4's second assignment! In this notebook, you will:\n",
    "\n",
    "- Create a mood classifer using the TF Keras Sequential API\n",
    "- Build a ConvNet to identify sign language digits using the TF Keras Functional API\n",
    "\n",
    "**After this assignment you will be able to:**\n",
    "\n",
    "- Build and train a ConvNet in TensorFlow for a __binary__ classification problem\n",
    "- Build and train a ConvNet in TensorFlow for a __multiclass__ classification problem\n",
    "- Explain different use cases for the Sequential and Functional APIs\n",
    "\n",
    "To complete this assignment, you should already be familiar with TensorFlow. If you are not, please refer back to the **TensorFlow Tutorial** of the third week of Course 2 (\"**Improving deep neural networks**\")."
   ]
  },
  {
   "cell_type": "markdown",
   "metadata": {},
   "source": [
    "## Table of Contents\n",
    "\n",
    "- [1 - Packages](#1)\n",
    "    - [1.1 - Load the Data and Split the Data into Train/Test Sets](#1-1)\n",
    "- [2 - Layers in TF Keras](#2)\n",
    "- [3 - The Sequential API](#3)\n",
    "    - [3.1 - Create the Sequential Model](#3-1)\n",
    "        - [Exercise 1 - happyModel](#ex-1)\n",
    "    - [3.2 - Train and Evaluate the Model](#3-2)\n",
    "- [4 - The Functional API](#4)\n",
    "    - [4.1 - Load the SIGNS Dataset](#4-1)\n",
    "    - [4.2 - Split the Data into Train/Test Sets](#4-2)\n",
    "    - [4.3 - Forward Propagation](#4-3)\n",
    "        - [Exercise 2 - convolutional_model](#ex-2)\n",
    "    - [4.4 - Train the Model](#4-4)\n",
    "- [5 - History Object](#5)\n",
    "- [6 - Bibliography](#6)"
   ]
  },
  {
   "cell_type": "markdown",
   "metadata": {},
   "source": [
    "<a name='1'></a>\n",
    "## 1 - Packages\n",
    "\n",
    "As usual, begin by loading in the packages."
   ]
  },
  {
   "cell_type": "code",
   "execution_count": 52,
   "metadata": {},
   "outputs": [],
   "source": [
    "import math\n",
    "import numpy as np\n",
    "import h5py\n",
    "import matplotlib.pyplot as plt\n",
    "from matplotlib.pyplot import imread\n",
    "import scipy\n",
    "from PIL import Image\n",
    "import pandas as pd\n",
    "import tensorflow as tf\n",
    "import tensorflow.keras.layers as tfl\n",
    "from tensorflow.python.framework import ops\n",
    "from cnn_utils import *\n",
    "from test_utils import summary, comparator\n",
    "\n",
    "%matplotlib inline\n",
    "np.random.seed(1)"
   ]
  },
  {
   "cell_type": "markdown",
   "metadata": {},
   "source": [
    "<a name='1-1'></a>\n",
    "### 1.1 - Load the Data and Split the Data into Train/Test Sets\n",
    "\n",
    "You'll be using the Happy House dataset for this part of the assignment, which contains images of peoples' faces. Your task will be to build a ConvNet that determines whether the people in the images are smiling or not -- because they only get to enter the house if they're smiling!  "
   ]
  },
  {
   "cell_type": "code",
   "execution_count": 53,
   "metadata": {},
   "outputs": [
    {
     "name": "stdout",
     "output_type": "stream",
     "text": [
      "number of training examples = 600\n",
      "number of test examples = 150\n",
      "X_train shape: (600, 64, 64, 3)\n",
      "Y_train shape: (600, 1)\n",
      "X_test shape: (150, 64, 64, 3)\n",
      "Y_test shape: (150, 1)\n"
     ]
    }
   ],
   "source": [
    "X_train_orig, Y_train_orig, X_test_orig, Y_test_orig, classes = load_happy_dataset()\n",
    "\n",
    "# Normalize image vectors\n",
    "X_train = X_train_orig/255.\n",
    "X_test = X_test_orig/255.\n",
    "\n",
    "# Reshape\n",
    "Y_train = Y_train_orig.T\n",
    "Y_test = Y_test_orig.T\n",
    "\n",
    "print (\"number of training examples = \" + str(X_train.shape[0]))\n",
    "print (\"number of test examples = \" + str(X_test.shape[0]))\n",
    "print (\"X_train shape: \" + str(X_train.shape))\n",
    "print (\"Y_train shape: \" + str(Y_train.shape))\n",
    "print (\"X_test shape: \" + str(X_test.shape))\n",
    "print (\"Y_test shape: \" + str(Y_test.shape))"
   ]
  },
  {
   "cell_type": "markdown",
   "metadata": {},
   "source": [
    "You can display the images contained in the dataset. Images are **64x64** pixels in RGB format (3 channels)."
   ]
  },
  {
   "cell_type": "code",
   "execution_count": 54,
   "metadata": {},
   "outputs": [
    {
     "data": {
      "image/png": "[encoded data removed]",
      "text/plain": [
       "<Figure size 432x288 with 1 Axes>"
      ]
     },
     "metadata": {
      "needs_background": "light"
     },
     "output_type": "display_data"
    }
   ],
   "source": [
    "index = 124\n",
    "plt.imshow(X_train_orig[index]) #display sample training image\n",
    "plt.show()"
   ]
  },
  {
   "cell_type": "markdown",
   "metadata": {},
   "source": [
    "<a name='2'></a>\n",
    "## 2 - Layers in TF Keras \n",
    "\n",
    "In the previous assignment, you created layers manually in numpy. In TF Keras, you don't have to write code directly to create layers. Rather, TF Keras has pre-defined layers you can use. \n",
    "\n",
    "When you create a layer in TF Keras, you are creating a function that takes some input and transforms it into an output you can reuse later. Nice and easy! "
   ]
  },
  {
   "cell_type": "markdown",
   "metadata": {},
   "source": [
    "<a name='3'></a>\n",
    "## 3 - The Sequential API\n",
    "\n",
    "In the previous assignment, you built helper functions using `numpy` to understand the mechanics behind convolutional neural networks. Most practical applications of deep learning today are built using programming frameworks, which have many built-in functions you can simply call. Keras is a high-level abstraction built on top of TensorFlow, which allows for even more simplified and optimized model creation and training. \n",
    "\n",
    "For the first part of this assignment, you'll create a model using TF Keras' Sequential API, which allows you to build layer by layer, and is ideal for building models where each layer has **exactly one** input tensor and **one** output tensor. \n",
    "\n",
    "As you'll see, using the Sequential API is simple and straightforward, but is only appropriate for simpler, more straightforward tasks. Later in this notebook you'll spend some time building with a more flexible, powerful alternative: the Functional API. \n",
    " "
   ]
  },
  {
   "cell_type": "markdown",
   "metadata": {},
   "source": [
    "<a name='3-1'></a>\n",
    "### 3.1 - Create the Sequential Model\n",
    "\n",
    "As mentioned earlier, the TensorFlow Keras Sequential API can be used to build simple models with layer operations that proceed in a sequential order. \n",
    "\n",
    "You can also add layers incrementally to a Sequential model with the `.add()` method, or remove them using the `.pop()` method, much like you would in a regular Python list.\n",
    "\n",
    "Actually, you can think of a Sequential model as behaving like a list of layers. Like Python lists, Sequential layers are ordered, and the order in which they are specified matters.  If your model is non-linear or contains layers with multiple inputs or outputs, a Sequential model wouldn't be the right choice!\n",
    "\n",
    "For any layer construction in Keras, you'll need to specify the input shape in advance. This is because in Keras, the shape of the weights is based on the shape of the inputs. The weights are only created when the model first sees some input data. Sequential models can be created by passing a list of layers to the Sequential constructor, like you will do in the next assignment.\n",
    "\n",
    "<a name='ex-1'></a>\n",
    "### Exercise 1 - happyModel\n",
    "\n",
    "Implement the `happyModel` function below to build the following model: `ZEROPAD2D -> CONV2D -> BATCHNORM -> RELU -> MAXPOOL -> FLATTEN -> DENSE`. Take help from [tf.keras.layers](https://www.tensorflow.org/api_docs/python/tf/keras/layers) \n",
    "\n",
    "Also, plug in the following parameters for all the steps:\n",
    "\n",
    " - [ZeroPadding2D](https://www.tensorflow.org/api_docs/python/tf/keras/layers/ZeroPadding2D): padding 3, input shape 64 x 64 x 3\n",
    " - [Conv2D](https://www.tensorflow.org/api_docs/python/tf/keras/layers/Conv2D): Use 32 7x7 filters, stride 1\n",
    " - [BatchNormalization](https://www.tensorflow.org/api_docs/python/tf/keras/layers/BatchNormalization): for axis 3\n",
    " - [ReLU](https://www.tensorflow.org/api_docs/python/tf/keras/layers/ReLU)\n",
    " - [MaxPool2D](https://www.tensorflow.org/api_docs/python/tf/keras/layers/MaxPool2D): Using default parameters\n",
    " - [Flatten](https://www.tensorflow.org/api_docs/python/tf/keras/layers/Flatten) the previous output.\n",
    " - Fully-connected ([Dense](https://www.tensorflow.org/api_docs/python/tf/keras/layers/Dense)) layer: Apply a fully connected layer with 1 neuron and a sigmoid activation. \n",
    " \n",
    " \n",
    " **Hint:**\n",
    " \n",
    " Use **tfl** as shorthand for **tensorflow.keras.layers**"
   ]
  },
  {
   "cell_type": "code",
   "execution_count": 55,
   "metadata": {
    "deletable": false,
    "nbgrader": {
     "cell_type": "code",
     "checksum": "95d28b191f257bdd5b70c7b8952559d5",
     "grade": false,
     "grade_id": "cell-0e56d3fc28b69aec",
     "locked": false,
     "schema_version": 3,
     "solution": true,
     "task": false
    }
   },
   "outputs": [],
   "source": [
    "# GRADED FUNCTION: happyModel\n",
    "\n",
    "def happyModel():\n",
    "    \"\"\"\n",
    "    Implements the forward propagation for the binary classification model:\n",
    "    ZEROPAD2D -> CONV2D -> BATCHNORM -> RELU -> MAXPOOL -> FLATTEN -> DENSE\n",
    "    \n",
    "    Note that for simplicity and grading purposes, you'll hard-code all the values\n",
    "    such as the stride and kernel (filter) sizes. \n",
    "    Normally, functions should take these values as function parameters.\n",
    "    \n",
    "    Arguments:\n",
    "    None\n",
    "\n",
    "    Returns:\n",
    "    model -- TF Keras model (object containing the information for the entire training process) \n",
    "    \"\"\"\n",
    "   \n",
    "    model = tf.keras.Sequential(\n",
    "    [\n",
    "        ## ZeroPadding2D with padding 3, input shape of 64 x 64 x 3\n",
    "        tfl.ZeroPadding2D(padding=(3,3),input_shape=(64, 64, 3), data_format=\"channels_last\"),\n",
    "    \n",
    "        ## Conv2D with 32 7x7 filters and stride of 1            \n",
    "        tfl.Conv2D(32, (7, 7), strides = (1, 1), name = 'conv0'),\n",
    "        \n",
    "        ## BatchNormalization for axis 3\n",
    "        \n",
    "        tfl.BatchNormalization(axis = 3, name = 'bn0'),\n",
    "        \n",
    "        ## ReLU            \n",
    "        tfl.ReLU(),\n",
    "        \n",
    "        ## Max Pooling 2D with default parameters            \n",
    "        tfl.MaxPooling2D((2, 2), name='max_pool0'),\n",
    "    \n",
    "        ## Flatten layer            \n",
    "        tfl.Flatten(),\n",
    "    \n",
    "        ## Dense layer with 1 unit for output & 'sigmoid' activation            \n",
    "        tfl.Dense(1, activation='sigmoid', name='fc')\n",
    "        \n",
    "        # YOUR CODE STARTS HERE\n",
    "        \n",
    "        \n",
    "        \n",
    "        # YOUR CODE ENDS HERE\n",
    "    ]\n",
    ")\n",
    "    \n",
    "    return model"
   ]
  },
  {
   "cell_type": "code",
   "execution_count": 56,
   "metadata": {
    "deletable": false,
    "editable": false,
    "nbgrader": {
     "cell_type": "code",
     "checksum": "8d3575c950e2e78149be2d05d671c80d",
     "grade": true,
     "grade_id": "cell-e3e1046e5c33d775",
     "locked": true,
     "points": 10,
     "schema_version": 3,
     "solution": false,
     "task": false
    }
   },
   "outputs": [
    {
     "name": "stdout",
     "output_type": "stream",
     "text": [
      "['ZeroPadding2D', (None, 70, 70, 3), 0, ((3, 3), (3, 3))]\n",
      "['Conv2D', (None, 64, 64, 32), 4736, 'valid', 'linear', 'GlorotUniform']\n",
      "['BatchNormalization', (None, 64, 64, 32), 128]\n",
      "['ReLU', (None, 64, 64, 32), 0]\n",
      "['MaxPooling2D', (None, 32, 32, 32), 0, (2, 2), (2, 2), 'valid']\n",
      "['Flatten', (None, 32768), 0]\n",
      "['Dense', (None, 1), 32769, 'sigmoid']\n",
      "\u001b[32mAll tests passed!\u001b[0m\n"
     ]
    }
   ],
   "source": [
    "happy_model = happyModel()\n",
    "# Print a summary for each layer\n",
    "for layer in summary(happy_model):\n",
    "    print(layer)\n",
    "    \n",
    "output = [['ZeroPadding2D', (None, 70, 70, 3), 0, ((3, 3), (3, 3))],\n",
    "            ['Conv2D', (None, 64, 64, 32), 4736, 'valid', 'linear', 'GlorotUniform'],\n",
    "            ['BatchNormalization', (None, 64, 64, 32), 128],\n",
    "            ['ReLU', (None, 64, 64, 32), 0],\n",
    "            ['MaxPooling2D', (None, 32, 32, 32), 0, (2, 2), (2, 2), 'valid'],\n",
    "            ['Flatten', (None, 32768), 0],\n",
    "            ['Dense', (None, 1), 32769, 'sigmoid']]\n",
    "    \n",
    "comparator(summary(happy_model), output)"
   ]
  },
  {
   "cell_type": "markdown",
   "metadata": {},
   "source": [
    "Now that your model is created, you can compile it for training with an optimizer and loss of your choice. When the string `accuracy` is specified as a metric, the type of accuracy used will be automatically converted based on the loss function used. This is one of the many optimizations built into TensorFlow that make your life easier! If you'd like to read more on how the compiler operates, check the docs [here](https://www.tensorflow.org/api_docs/python/tf/keras/Model#compile)."
   ]
  },
  {
   "cell_type": "code",
   "execution_count": 57,
   "metadata": {},
   "outputs": [],
   "source": [
    "happy_model.compile(optimizer='adam',\n",
    "                   loss='binary_crossentropy',\n",
    "                   metrics=['accuracy'])"
   ]
  },
  {
   "cell_type": "markdown",
   "metadata": {},
   "source": [
    "It's time to check your model's parameters with the `.summary()` method. This will display the types of layers you have, the shape of the outputs, and how many parameters are in each layer. "
   ]
  },
  {
   "cell_type": "code",
   "execution_count": 58,
   "metadata": {},
   "outputs": [
    {
     "name": "stdout",
     "output_type": "stream",
     "text": [
      "Model: \"sequential_9\"\n",
      "_________________________________________________________________\n",
      "Layer (type)                 Output Shape              Param #   \n",
      "=================================================================\n",
      "zero_padding2d_9 (ZeroPaddin (None, 70, 70, 3)         0         \n",
      "_________________________________________________________________\n",
      "conv0 (Conv2D)               (None, 64, 64, 32)        4736      \n",
      "_________________________________________________________________\n",
      "bn0 (BatchNormalization)     (None, 64, 64, 32)        128       \n",
      "_________________________________________________________________\n",
      "re_lu_4 (ReLU)               (None, 64, 64, 32)        0         \n",
      "_________________________________________________________________\n",
      "max_pool0 (MaxPooling2D)     (None, 32, 32, 32)        0         \n",
      "_________________________________________________________________\n",
      "flatten_9 (Flatten)          (None, 32768)             0         \n",
      "_________________________________________________________________\n",
      "fc (Dense)                   (None, 1)                 32769     \n",
      "=================================================================\n",
      "Total params: 37,633\n",
      "Trainable params: 37,569\n",
      "Non-trainable params: 64\n",
      "_________________________________________________________________\n"
     ]
    }
   ],
   "source": [
    "happy_model.summary()"
   ]
  },
  {
   "cell_type": "markdown",
   "metadata": {},
   "source": [
    "<a name='3-2'></a>\n",
    "### 3.2 - Train and Evaluate the Model\n",
    "\n",
    "After creating the model, compiling it with your choice of optimizer and loss function, and doing a sanity check on its contents, you are now ready to build! \n",
    "\n",
    "Simply call `.fit()` to train. That's it! No need for mini-batching, saving, or complex backpropagation computations. That's all been done for you, as you're using a TensorFlow dataset with the batches specified already. You do have the option to specify epoch number or minibatch size if you like (for example, in the case of an un-batched dataset)."
   ]
  },
  {
   "cell_type": "code",
   "execution_count": 59,
   "metadata": {},
   "outputs": [
    {
     "name": "stdout",
     "output_type": "stream",
     "text": [
      "Epoch 1/10\n",
      "38/38 [==============================] - 4s 97ms/step - loss: 0.9498 - accuracy: 0.7383\n",
      "Epoch 2/10\n",
      "38/38 [==============================] - 4s 97ms/step - loss: 0.1482 - accuracy: 0.9483\n",
      "Epoch 3/10\n",
      "38/38 [==============================] - 4s 95ms/step - loss: 0.1329 - accuracy: 0.9417\n",
      "Epoch 4/10\n",
      "38/38 [==============================] - 4s 97ms/step - loss: 0.1081 - accuracy: 0.9683\n",
      "Epoch 5/10\n",
      "38/38 [==============================] - 4s 95ms/step - loss: 0.1055 - accuracy: 0.9600\n",
      "Epoch 6/10\n",
      "38/38 [==============================] - 4s 95ms/step - loss: 0.0550 - accuracy: 0.9833\n",
      "Epoch 7/10\n",
      "38/38 [==============================] - 4s 97ms/step - loss: 0.0964 - accuracy: 0.9650\n",
      "Epoch 8/10\n",
      "38/38 [==============================] - 4s 95ms/step - loss: 0.1276 - accuracy: 0.9600\n",
      "Epoch 9/10\n",
      "38/38 [==============================] - 4s 95ms/step - loss: 0.0969 - accuracy: 0.9633\n",
      "Epoch 10/10\n",
      "38/38 [==============================] - 4s 100ms/step - loss: 0.0525 - accuracy: 0.9850\n"
     ]
    },
    {
     "data": {
      "text/plain": [
       "<tensorflow.python.keras.callbacks.History at 0x7f9eef86e590>"
      ]
     },
     "execution_count": 59,
     "metadata": {},
     "output_type": "execute_result"
    }
   ],
   "source": [
    "happy_model.fit(X_train, Y_train, epochs=10, batch_size=16)"
   ]
  },
  {
   "cell_type": "markdown",
   "metadata": {},
   "source": [
    "After that completes, just use `.evaluate()` to evaluate against your test set. This function will print the value of the loss function and the performance metrics specified during the compilation of the model. In this case, the `binary_crossentropy` and the `accuracy` respectively."
   ]
  },
  {
   "cell_type": "code",
   "execution_count": 60,
   "metadata": {},
   "outputs": [
    {
     "name": "stdout",
     "output_type": "stream",
     "text": [
      "5/5 [==============================] - 0s 39ms/step - loss: 0.2324 - accuracy: 0.9133\n"
     ]
    },
    {
     "data": {
      "text/plain": [
       "[0.23243026435375214, 0.9133333563804626]"
      ]
     },
     "execution_count": 60,
     "metadata": {},
     "output_type": "execute_result"
    }
   ],
   "source": [
    "happy_model.evaluate(X_test, Y_test)"
   ]
  },
  {
   "cell_type": "markdown",
   "metadata": {},
   "source": [
    "Easy, right? But what if you need to build a model with shared layers, branches, or multiple inputs and outputs? This is where Sequential, with its beautifully simple yet limited functionality, won't be able to help you. \n",
    "\n",
    "Next up: Enter the Functional API, your slightly more complex, highly flexible friend.  "
   ]
  },
  {
   "cell_type": "markdown",
   "metadata": {},
   "source": [
    "<a name='4'></a>\n",
    "## 4 - The Functional API"
   ]
  },
  {
   "cell_type": "markdown",
   "metadata": {},
   "source": [
    "Welcome to the second half of the assignment, where you'll use Keras' flexible [Functional API](https://www.tensorflow.org/guide/keras/functional) to build a ConvNet that can differentiate between 6 sign language digits. \n",
    "\n",
    "The Functional API can handle models with non-linear topology, shared layers, as well as layers with multiple inputs or outputs. Imagine that, where the Sequential API requires the model to move in a linear fashion through its layers, the Functional API allows much more flexibility. Where Sequential is a straight line, a Functional model is a graph, where the nodes of the layers can connect in many more ways than one. \n",
    "\n",
    "In the visual example below, the one possible direction of the movement Sequential model is shown in contrast to a skip connection, which is just one of the many ways a Functional model can be constructed. A skip connection, as you might have guessed, skips some layer in the network and feeds the output to a later layer in the network. Don't worry, you'll be spending more time with skip connections very soon! "
   ]
  },
  {
   "cell_type": "markdown",
   "metadata": {},
   "source": [
    "<img src=\"images/seq_vs_func.png\" style=\"width:350px;height:200px;\">"
   ]
  },
  {
   "cell_type": "markdown",
   "metadata": {},
   "source": [
    "<a name='4-1'></a>\n",
    "### 4.1 - Load the SIGNS Dataset\n",
    "\n",
    "As a reminder, the SIGNS dataset is a collection of 6 signs representing numbers from 0 to 5."
   ]
  },
  {
   "cell_type": "code",
   "execution_count": 61,
   "metadata": {},
   "outputs": [],
   "source": [
    "# Loading the data (signs)\n",
    "X_train_orig, Y_train_orig, X_test_orig, Y_test_orig, classes = load_signs_dataset()"
   ]
  },
  {
   "cell_type": "markdown",
   "metadata": {},
   "source": [
    "<img src=\"images/SIGNS.png\" style=\"width:800px;height:300px;\">\n",
    "\n",
    "The next cell will show you an example of a labelled image in the dataset. Feel free to change the value of `index` below and re-run to see different examples. "
   ]
  },
  {
   "cell_type": "code",
   "execution_count": 62,
   "metadata": {},
   "outputs": [
    {
     "name": "stdout",
     "output_type": "stream",
     "text": [
      "y = 5\n"
     ]
    },
    {
     "data": {
      "image/png": "[encoded data removed]",
      "text/plain": [
       "<Figure size 432x288 with 1 Axes>"
      ]
     },
     "metadata": {
      "needs_background": "light"
     },
     "output_type": "display_data"
    }
   ],
   "source": [
    "# Example of an image from the dataset\n",
    "index = 15\n",
    "plt.imshow(X_train_orig[index])\n",
    "print (\"y = \" + str(np.squeeze(Y_train_orig[:, index])))"
   ]
  },
  {
   "cell_type": "markdown",
   "metadata": {},
   "source": [
    "<a name='4-2'></a>\n",
    "### 4.2 - Split the Data into Train/Test Sets\n",
    "\n",
    "In Course 2, you built a fully-connected network for this dataset. But since this is an image dataset, it is more natural to apply a ConvNet to it.\n",
    "\n",
    "To get started, let's examine the shapes of your data. "
   ]
  },
  {
   "cell_type": "code",
   "execution_count": 63,
   "metadata": {},
   "outputs": [
    {
     "name": "stdout",
     "output_type": "stream",
     "text": [
      "number of training examples = 1080\n",
      "number of test examples = 120\n",
      "X_train shape: (1080, 64, 64, 3)\n",
      "Y_train shape: (1080, 6)\n",
      "X_test shape: (120, 64, 64, 3)\n",
      "Y_test shape: (120, 6)\n"
     ]
    }
   ],
   "source": [
    "X_train = X_train_orig/255.\n",
    "X_test = X_test_orig/255.\n",
    "Y_train = convert_to_one_hot(Y_train_orig, 6).T\n",
    "Y_test = convert_to_one_hot(Y_test_orig, 6).T\n",
    "print (\"number of training examples = \" + str(X_train.shape[0]))\n",
    "print (\"number of test examples = \" + str(X_test.shape[0]))\n",
    "print (\"X_train shape: \" + str(X_train.shape))\n",
    "print (\"Y_train shape: \" + str(Y_train.shape))\n",
    "print (\"X_test shape: \" + str(X_test.shape))\n",
    "print (\"Y_test shape: \" + str(Y_test.shape))"
   ]
  },
  {
   "cell_type": "markdown",
   "metadata": {},
   "source": [
    "<a name='4-3'></a>\n",
    "### 4.3 - Forward Propagation\n",
    "\n",
    "In TensorFlow, there are built-in functions that implement the convolution steps for you. By now, you should be familiar with how TensorFlow builds computational graphs. In the [Functional API](https://www.tensorflow.org/guide/keras/functional), you create a graph of layers. This is what allows such great flexibility.\n",
    "\n",
    "However, the following model could also be defined using the Sequential API since the information flow is on a single line. But don't deviate. What we want you to learn is to use the functional API.\n",
    "\n",
    "Begin building your graph of layers by creating an input node that functions as a callable object:\n",
    "\n",
    "- **input_img = tf.keras.Input(shape=input_shape):** \n",
    "\n",
    "Then, create a new node in the graph of layers by calling a layer on the `input_img` object: \n",
    "\n",
    "- **tf.keras.layers.Conv2D(filters= ... , kernel_size= ... , padding='same')(input_img):** Read the full documentation on [Conv2D](https://www.tensorflow.org/api_docs/python/tf/keras/layers/Conv2D).\n",
    "\n",
    "- **tf.keras.layers.MaxPool2D(pool_size=(f, f), strides=(s, s), padding='same'):** `MaxPool2D()` downsamples your input using a window of size (f, f) and strides of size (s, s) to carry out max pooling over each window.  For max pooling, you usually operate on a single example at a time and a single channel at a time. Read the full documentation on [MaxPool2D](https://www.tensorflow.org/api_docs/python/tf/keras/layers/MaxPool2D).\n",
    "\n",
    "- **tf.keras.layers.ReLU():** computes the elementwise ReLU of Z (which can be any shape). You can read the full documentation on [ReLU](https://www.tensorflow.org/api_docs/python/tf/keras/layers/ReLU).\n",
    "\n",
    "- **tf.keras.layers.Flatten()**: given a tensor \"P\", this function takes each training (or test) example in the batch and flattens it into a 1D vector.  \n",
    "\n",
    "    * If a tensor P has the shape (batch_size,h,w,c), it returns a flattened tensor with shape (batch_size, k), where $k=h \\times w \\times c$.  \"k\" equals the product of all the dimension sizes other than the first dimension.\n",
    "    \n",
    "    * For example, given a tensor with dimensions [100, 2, 3, 4], it flattens the tensor to be of shape [100, 24], where 24 = 2 * 3 * 4.  You can read the full documentation on [Flatten](https://www.tensorflow.org/api_docs/python/tf/keras/layers/Flatten).\n",
    "\n",
    "- **tf.keras.layers.Dense(units= ... , activation='softmax')(F):** given the flattened input F, it returns the output computed using a fully connected layer. You can read the full documentation on [Dense](https://www.tensorflow.org/api_docs/python/tf/keras/layers/Dense).\n",
    "\n",
    "In the last function above (`tf.keras.layers.Dense()`), the fully connected layer automatically initializes weights in the graph and keeps on training them as you train the model. Hence, you did not need to initialize those weights when initializing the parameters.\n",
    "\n",
    "Lastly, before creating the model, you'll need to define the output using the last of the function's compositions (in this example, a Dense layer): \n",
    "\n",
    "- **outputs = tf.keras.layers.Dense(units=6, activation='softmax')(F)**\n",
    "\n",
    "\n",
    "#### Window, kernel, filter, pool\n",
    "\n",
    "The words \"kernel\" and \"filter\" are used to refer to the same thing. The word \"filter\" accounts for the amount of \"kernels\" that will be used in a single convolution layer. \"Pool\" is the name of the operation that takes the max or average value of the kernels. \n",
    "\n",
    "This is why the parameter `pool_size` refers to `kernel_size`, and you use `(f,f)` to refer to the filter size. \n",
    "\n",
    "Pool size and kernel size refer to the same thing in different objects - They refer to the shape of the window where the operation takes place. "
   ]
  },
  {
   "cell_type": "markdown",
   "metadata": {},
   "source": [
    "<a name='ex-2'></a>\n",
    "### Exercise 2 - convolutional_model\n",
    "\n",
    "Implement the `convolutional_model` function below to build the following model: `CONV2D -> RELU -> MAXPOOL -> CONV2D -> RELU -> MAXPOOL -> FLATTEN -> DENSE`. Use the functions above! \n",
    "\n",
    "Also, plug in the following parameters for all the steps:\n",
    "\n",
    " - [Conv2D](https://www.tensorflow.org/api_docs/python/tf/keras/layers/Conv2D): Use 8 4 by 4 filters, stride 1, padding is \"SAME\"\n",
    " - [ReLU](https://www.tensorflow.org/api_docs/python/tf/keras/layers/ReLU)\n",
    " - [MaxPool2D](https://www.tensorflow.org/api_docs/python/tf/keras/layers/MaxPool2D): Use an 8 by 8 filter size and an 8 by 8 stride, padding is \"SAME\"\n",
    " - **Conv2D**: Use 16 2 by 2 filters, stride 1, padding is \"SAME\"\n",
    " - **ReLU**\n",
    " - **MaxPool2D**: Use a 4 by 4 filter size and a 4 by 4 stride, padding is \"SAME\"\n",
    " - [Flatten](https://www.tensorflow.org/api_docs/python/tf/keras/layers/Flatten) the previous output.\n",
    " - Fully-connected ([Dense](https://www.tensorflow.org/api_docs/python/tf/keras/layers/Dense)) layer: Apply a fully connected layer with 6 neurons and a softmax activation. "
   ]
  },
  {
   "cell_type": "code",
   "execution_count": 67,
   "metadata": {
    "deletable": false,
    "nbgrader": {
     "cell_type": "code",
     "checksum": "f58643806aa8380c96225fc8b4c5e7aa",
     "grade": false,
     "grade_id": "cell-dac51744a9e03f51",
     "locked": false,
     "schema_version": 3,
     "solution": true,
     "task": false
    }
   },
   "outputs": [],
   "source": [
    "# GRADED FUNCTION: convolutional_model\n",
    "\n",
    "def convolutional_model(input_shape):\n",
    "    \"\"\"\n",
    "    Implements the forward propagation for the model:\n",
    "    CONV2D -> RELU -> MAXPOOL -> CONV2D -> RELU -> MAXPOOL -> FLATTEN -> DENSE\n",
    "    \n",
    "    Note that for simplicity and grading purposes, you'll hard-code some values\n",
    "    such as the stride and kernel (filter) sizes. \n",
    "    Normally, functions should take these values as function parameters.\n",
    "    \n",
    "    Arguments:\n",
    "    input_img -- input dataset, of shape (input_shape)\n",
    "\n",
    "    Returns:\n",
    "    model -- TF Keras model (object containing the information for the entire training process) \n",
    "    \"\"\"\n",
    "\n",
    "    input_img = tf.keras.Input(shape=input_shape)\n",
    "    ## CONV2D: 8 filters 4x4, stride of 1, padding 'SAME'\n",
    "    Z1 = tfl.Conv2D( 8 , kernel_size= (4,4), strides=(1, 1) , padding='same')(input_img)\n",
    "    ## RELU\n",
    "    A1 = tfl.ReLU()(Z1)\n",
    "    ## MAXPOOL: window 8x8, stride 8, padding 'SAME'\n",
    "    P1 = tfl.MaxPool2D( pool_size=(8, 8), strides=(8,8), padding='same')(A1)\n",
    "    ## CONV2D: 16 filters 2x2, stride 1, padding 'SAME'\n",
    "    Z2 = tfl.Conv2D(16 , kernel_size=(2,2) , strides=(1,1), padding='same')(P1)\n",
    "    ## RELU\n",
    "    A2 = tfl.ReLU()(Z2)\n",
    "    ## MAXPOOL: window 4x4, stride 4, padding 'SAME'\n",
    "    P2 = tfl.MaxPool2D( pool_size=(4, 4), strides=(4,4), padding='same')(A2)\n",
    "    ## FLATTEN\n",
    "    F =  tfl.Flatten()(P2)\n",
    "    ## Dense layer\n",
    "    ## 6 neurons in output layer. Hint: one of the arguments should be \"activation='softmax'\" \n",
    "    outputs = tfl.Dense(units= 6 , activation='softmax')(F)\n",
    "    # YOUR CODE STARTS HERE\n",
    "    \n",
    "    \n",
    "    # YOUR CODE ENDS HERE\n",
    "    model = tf.keras.Model(inputs=input_img, outputs=outputs)\n",
    "    return model"
   ]
  },
  {
   "cell_type": "code",
   "execution_count": 68,
   "metadata": {
    "deletable": false,
    "editable": false,
    "nbgrader": {
     "cell_type": "code",
     "checksum": "483d626949930a0b0ef20997e7c6ba72",
     "grade": true,
     "grade_id": "cell-45d22e92042174c9",
     "locked": true,
     "points": 10,
     "schema_version": 3,
     "solution": false,
     "task": false
    }
   },
   "outputs": [
    {
     "name": "stdout",
     "output_type": "stream",
     "text": [
      "Model: \"functional_2\"\n",
      "_________________________________________________________________\n",
      "Layer (type)                 Output Shape              Param #   \n",
      "=================================================================\n",
      "input_2 (InputLayer)         [(None, 64, 64, 3)]       0         \n",
      "_________________________________________________________________\n",
      "conv2d_2 (Conv2D)            (None, 64, 64, 8)         392       \n",
      "_________________________________________________________________\n",
      "re_lu_7 (ReLU)               (None, 64, 64, 8)         0         \n",
      "_________________________________________________________________\n",
      "max_pooling2d_2 (MaxPooling2 (None, 8, 8, 8)           0         \n",
      "_________________________________________________________________\n",
      "conv2d_3 (Conv2D)            (None, 8, 8, 16)          528       \n",
      "_________________________________________________________________\n",
      "re_lu_8 (ReLU)               (None, 8, 8, 16)          0         \n",
      "_________________________________________________________________\n",
      "max_pooling2d_3 (MaxPooling2 (None, 2, 2, 16)          0         \n",
      "_________________________________________________________________\n",
      "flatten_11 (Flatten)         (None, 64)                0         \n",
      "_________________________________________________________________\n",
      "dense_1 (Dense)              (None, 6)                 390       \n",
      "=================================================================\n",
      "Total params: 1,310\n",
      "Trainable params: 1,310\n",
      "Non-trainable params: 0\n",
      "_________________________________________________________________\n",
      "\u001b[32mAll tests passed!\u001b[0m\n"
     ]
    }
   ],
   "source": [
    "conv_model = convolutional_model((64, 64, 3))\n",
    "conv_model.compile(optimizer='adam',\n",
    "                  loss='categorical_crossentropy',\n",
    "                  metrics=['accuracy'])\n",
    "conv_model.summary()\n",
    "    \n",
    "output = [['InputLayer', [(None, 64, 64, 3)], 0],\n",
    "        ['Conv2D', (None, 64, 64, 8), 392, 'same', 'linear', 'GlorotUniform'],\n",
    "        ['ReLU', (None, 64, 64, 8), 0],\n",
    "        ['MaxPooling2D', (None, 8, 8, 8), 0, (8, 8), (8, 8), 'same'],\n",
    "        ['Conv2D', (None, 8, 8, 16), 528, 'same', 'linear', 'GlorotUniform'],\n",
    "        ['ReLU', (None, 8, 8, 16), 0],\n",
    "        ['MaxPooling2D', (None, 2, 2, 16), 0, (4, 4), (4, 4), 'same'],\n",
    "        ['Flatten', (None, 64), 0],\n",
    "        ['Dense', (None, 6), 390, 'softmax']]\n",
    "    \n",
    "comparator(summary(conv_model), output)"
   ]
  },
  {
   "cell_type": "markdown",
   "metadata": {},
   "source": [
    "Both the Sequential and Functional APIs return a TF Keras model object. The only difference is how inputs are handled inside the object model! "
   ]
  },
  {
   "cell_type": "markdown",
   "metadata": {},
   "source": [
    "<a name='4-4'></a>\n",
    "### 4.4 - Train the Model"
   ]
  },
  {
   "cell_type": "code",
   "execution_count": 69,
   "metadata": {},
   "outputs": [
    {
     "name": "stdout",
     "output_type": "stream",
     "text": [
      "Epoch 1/100\n",
      "17/17 [==============================] - 2s 112ms/step - loss: 1.8037 - accuracy: 0.1954 - val_loss: 1.7889 - val_accuracy: 0.2250\n",
      "Epoch 2/100\n",
      "17/17 [==============================] - 2s 106ms/step - loss: 1.7870 - accuracy: 0.1907 - val_loss: 1.7848 - val_accuracy: 0.2000\n",
      "Epoch 3/100\n",
      "17/17 [==============================] - 2s 106ms/step - loss: 1.7817 - accuracy: 0.2185 - val_loss: 1.7809 - val_accuracy: 0.2083\n",
      "Epoch 4/100\n",
      "17/17 [==============================] - 2s 106ms/step - loss: 1.7768 - accuracy: 0.2583 - val_loss: 1.7760 - val_accuracy: 0.2250\n",
      "Epoch 5/100\n",
      "17/17 [==============================] - 2s 112ms/step - loss: 1.7712 - accuracy: 0.2843 - val_loss: 1.7711 - val_accuracy: 0.3083\n",
      "Epoch 6/100\n",
      "17/17 [==============================] - 2s 112ms/step - loss: 1.7648 - accuracy: 0.3361 - val_loss: 1.7653 - val_accuracy: 0.3167\n",
      "Epoch 7/100\n",
      "17/17 [==============================] - 2s 107ms/step - loss: 1.7564 - accuracy: 0.3500 - val_loss: 1.7574 - val_accuracy: 0.3167\n",
      "Epoch 8/100\n",
      "17/17 [==============================] - 2s 106ms/step - loss: 1.7459 - accuracy: 0.3676 - val_loss: 1.7476 - val_accuracy: 0.3583\n",
      "Epoch 9/100\n",
      "17/17 [==============================] - 2s 106ms/step - loss: 1.7331 - accuracy: 0.3917 - val_loss: 1.7366 - val_accuracy: 0.3667\n",
      "Epoch 10/100\n",
      "17/17 [==============================] - 2s 106ms/step - loss: 1.7176 - accuracy: 0.4037 - val_loss: 1.7228 - val_accuracy: 0.3833\n",
      "Epoch 11/100\n",
      "17/17 [==============================] - 2s 106ms/step - loss: 1.6984 - accuracy: 0.4250 - val_loss: 1.7050 - val_accuracy: 0.3583\n",
      "Epoch 12/100\n",
      "17/17 [==============================] - 2s 111ms/step - loss: 1.6751 - accuracy: 0.4287 - val_loss: 1.6849 - val_accuracy: 0.3417\n",
      "Epoch 13/100\n",
      "17/17 [==============================] - 2s 111ms/step - loss: 1.6488 - accuracy: 0.4407 - val_loss: 1.6632 - val_accuracy: 0.3500\n",
      "Epoch 14/100\n",
      "17/17 [==============================] - 2s 107ms/step - loss: 1.6194 - accuracy: 0.4528 - val_loss: 1.6395 - val_accuracy: 0.3500\n",
      "Epoch 15/100\n",
      "17/17 [==============================] - 2s 106ms/step - loss: 1.5865 - accuracy: 0.4509 - val_loss: 1.6147 - val_accuracy: 0.3417\n",
      "Epoch 16/100\n",
      "17/17 [==============================] - 2s 107ms/step - loss: 1.5509 - accuracy: 0.4556 - val_loss: 1.5876 - val_accuracy: 0.3667\n",
      "Epoch 17/100\n",
      "17/17 [==============================] - 2s 111ms/step - loss: 1.5141 - accuracy: 0.4694 - val_loss: 1.5586 - val_accuracy: 0.3750\n",
      "Epoch 18/100\n",
      "17/17 [==============================] - 2s 111ms/step - loss: 1.4751 - accuracy: 0.4759 - val_loss: 1.5262 - val_accuracy: 0.4167\n",
      "Epoch 19/100\n",
      "17/17 [==============================] - 2s 106ms/step - loss: 1.4346 - accuracy: 0.4889 - val_loss: 1.4881 - val_accuracy: 0.4250\n",
      "Epoch 20/100\n",
      "17/17 [==============================] - 2s 107ms/step - loss: 1.3925 - accuracy: 0.5009 - val_loss: 1.4514 - val_accuracy: 0.4750\n",
      "Epoch 21/100\n",
      "17/17 [==============================] - 2s 106ms/step - loss: 1.3525 - accuracy: 0.5130 - val_loss: 1.4151 - val_accuracy: 0.5000\n",
      "Epoch 22/100\n",
      "17/17 [==============================] - 2s 106ms/step - loss: 1.3142 - accuracy: 0.5278 - val_loss: 1.3794 - val_accuracy: 0.4917\n",
      "Epoch 23/100\n",
      "17/17 [==============================] - 2s 107ms/step - loss: 1.2768 - accuracy: 0.5444 - val_loss: 1.3488 - val_accuracy: 0.5000\n",
      "Epoch 24/100\n",
      "17/17 [==============================] - 2s 106ms/step - loss: 1.2415 - accuracy: 0.5574 - val_loss: 1.3168 - val_accuracy: 0.5083\n",
      "Epoch 25/100\n",
      "17/17 [==============================] - 2s 106ms/step - loss: 1.2094 - accuracy: 0.5639 - val_loss: 1.2891 - val_accuracy: 0.5167\n",
      "Epoch 26/100\n",
      "17/17 [==============================] - 2s 106ms/step - loss: 1.1783 - accuracy: 0.5731 - val_loss: 1.2600 - val_accuracy: 0.5417\n",
      "Epoch 27/100\n",
      "17/17 [==============================] - 2s 107ms/step - loss: 1.1497 - accuracy: 0.5769 - val_loss: 1.2339 - val_accuracy: 0.5583\n",
      "Epoch 28/100\n",
      "17/17 [==============================] - 2s 106ms/step - loss: 1.1222 - accuracy: 0.5843 - val_loss: 1.2078 - val_accuracy: 0.5667\n",
      "Epoch 29/100\n",
      "17/17 [==============================] - 2s 106ms/step - loss: 1.0950 - accuracy: 0.5954 - val_loss: 1.1826 - val_accuracy: 0.5667\n",
      "Epoch 30/100\n",
      "17/17 [==============================] - 2s 106ms/step - loss: 1.0707 - accuracy: 0.6019 - val_loss: 1.1573 - val_accuracy: 0.5750\n",
      "Epoch 31/100\n",
      "17/17 [==============================] - 2s 106ms/step - loss: 1.0469 - accuracy: 0.6194 - val_loss: 1.1336 - val_accuracy: 0.6083\n",
      "Epoch 32/100\n",
      "17/17 [==============================] - 2s 111ms/step - loss: 1.0235 - accuracy: 0.6296 - val_loss: 1.1130 - val_accuracy: 0.5917\n",
      "Epoch 33/100\n",
      "17/17 [==============================] - 2s 111ms/step - loss: 1.0026 - accuracy: 0.6361 - val_loss: 1.0941 - val_accuracy: 0.6167\n",
      "Epoch 34/100\n",
      "17/17 [==============================] - 2s 112ms/step - loss: 0.9803 - accuracy: 0.6398 - val_loss: 1.0727 - val_accuracy: 0.6250\n",
      "Epoch 35/100\n",
      "17/17 [==============================] - 2s 111ms/step - loss: 0.9604 - accuracy: 0.6417 - val_loss: 1.0539 - val_accuracy: 0.6417\n",
      "Epoch 36/100\n",
      "17/17 [==============================] - 2s 111ms/step - loss: 0.9392 - accuracy: 0.6556 - val_loss: 1.0312 - val_accuracy: 0.6417\n",
      "Epoch 37/100\n",
      "17/17 [==============================] - 2s 106ms/step - loss: 0.9186 - accuracy: 0.6620 - val_loss: 1.0133 - val_accuracy: 0.6500\n",
      "Epoch 38/100\n",
      "17/17 [==============================] - 2s 106ms/step - loss: 0.9020 - accuracy: 0.6787 - val_loss: 0.9970 - val_accuracy: 0.6667\n",
      "Epoch 39/100\n",
      "17/17 [==============================] - 2s 107ms/step - loss: 0.8847 - accuracy: 0.6806 - val_loss: 0.9822 - val_accuracy: 0.6667\n",
      "Epoch 40/100\n",
      "17/17 [==============================] - 2s 106ms/step - loss: 0.8697 - accuracy: 0.6870 - val_loss: 0.9654 - val_accuracy: 0.6667\n",
      "Epoch 41/100\n",
      "17/17 [==============================] - 2s 107ms/step - loss: 0.8541 - accuracy: 0.6907 - val_loss: 0.9542 - val_accuracy: 0.6667\n",
      "Epoch 42/100\n",
      "17/17 [==============================] - 2s 106ms/step - loss: 0.8405 - accuracy: 0.7028 - val_loss: 0.9401 - val_accuracy: 0.6667\n",
      "Epoch 43/100\n",
      "17/17 [==============================] - 2s 112ms/step - loss: 0.8266 - accuracy: 0.7120 - val_loss: 0.9292 - val_accuracy: 0.6667\n",
      "Epoch 44/100\n",
      "17/17 [==============================] - 2s 106ms/step - loss: 0.8145 - accuracy: 0.7148 - val_loss: 0.9180 - val_accuracy: 0.6667\n",
      "Epoch 45/100\n",
      "17/17 [==============================] - 2s 106ms/step - loss: 0.8022 - accuracy: 0.7231 - val_loss: 0.9062 - val_accuracy: 0.6667\n",
      "Epoch 46/100\n",
      "17/17 [==============================] - 2s 112ms/step - loss: 0.7910 - accuracy: 0.7241 - val_loss: 0.8960 - val_accuracy: 0.6750\n",
      "Epoch 47/100\n",
      "17/17 [==============================] - 2s 112ms/step - loss: 0.7800 - accuracy: 0.7287 - val_loss: 0.8863 - val_accuracy: 0.6833\n",
      "Epoch 48/100\n",
      "17/17 [==============================] - 2s 106ms/step - loss: 0.7698 - accuracy: 0.7333 - val_loss: 0.8760 - val_accuracy: 0.6833\n",
      "Epoch 49/100\n",
      "17/17 [==============================] - 2s 111ms/step - loss: 0.7597 - accuracy: 0.7380 - val_loss: 0.8678 - val_accuracy: 0.6917\n",
      "Epoch 50/100\n",
      "17/17 [==============================] - 2s 111ms/step - loss: 0.7502 - accuracy: 0.7417 - val_loss: 0.8600 - val_accuracy: 0.7000\n",
      "Epoch 51/100\n",
      "17/17 [==============================] - 2s 106ms/step - loss: 0.7409 - accuracy: 0.7481 - val_loss: 0.8523 - val_accuracy: 0.7000\n",
      "Epoch 52/100\n",
      "17/17 [==============================] - 2s 106ms/step - loss: 0.7322 - accuracy: 0.7528 - val_loss: 0.8445 - val_accuracy: 0.7083\n",
      "Epoch 53/100\n",
      "17/17 [==============================] - 2s 106ms/step - loss: 0.7234 - accuracy: 0.7546 - val_loss: 0.8377 - val_accuracy: 0.7083\n",
      "Epoch 54/100\n",
      "17/17 [==============================] - 2s 107ms/step - loss: 0.7152 - accuracy: 0.7546 - val_loss: 0.8308 - val_accuracy: 0.7083\n",
      "Epoch 55/100\n",
      "17/17 [==============================] - 2s 107ms/step - loss: 0.7068 - accuracy: 0.7620 - val_loss: 0.8229 - val_accuracy: 0.7083\n",
      "Epoch 56/100\n",
      "17/17 [==============================] - 2s 112ms/step - loss: 0.6989 - accuracy: 0.7639 - val_loss: 0.8170 - val_accuracy: 0.7083\n",
      "Epoch 57/100\n",
      "17/17 [==============================] - 2s 106ms/step - loss: 0.6911 - accuracy: 0.7648 - val_loss: 0.8105 - val_accuracy: 0.7083\n",
      "Epoch 58/100\n",
      "17/17 [==============================] - 2s 106ms/step - loss: 0.6837 - accuracy: 0.7722 - val_loss: 0.8038 - val_accuracy: 0.7167\n",
      "Epoch 59/100\n",
      "17/17 [==============================] - 2s 111ms/step - loss: 0.6765 - accuracy: 0.7741 - val_loss: 0.7983 - val_accuracy: 0.7167\n",
      "Epoch 60/100\n",
      "17/17 [==============================] - 2s 111ms/step - loss: 0.6695 - accuracy: 0.7796 - val_loss: 0.7914 - val_accuracy: 0.7167\n",
      "Epoch 61/100\n",
      "17/17 [==============================] - 2s 111ms/step - loss: 0.6627 - accuracy: 0.7852 - val_loss: 0.7851 - val_accuracy: 0.7167\n",
      "Epoch 62/100\n",
      "17/17 [==============================] - 2s 111ms/step - loss: 0.6561 - accuracy: 0.7861 - val_loss: 0.7793 - val_accuracy: 0.7250\n",
      "Epoch 63/100\n",
      "17/17 [==============================] - 2s 107ms/step - loss: 0.6496 - accuracy: 0.7898 - val_loss: 0.7730 - val_accuracy: 0.7250\n",
      "Epoch 64/100\n",
      "17/17 [==============================] - 2s 111ms/step - loss: 0.6433 - accuracy: 0.7917 - val_loss: 0.7672 - val_accuracy: 0.7250\n",
      "Epoch 65/100\n",
      "17/17 [==============================] - 2s 112ms/step - loss: 0.6371 - accuracy: 0.7972 - val_loss: 0.7623 - val_accuracy: 0.7250\n",
      "Epoch 66/100\n",
      "17/17 [==============================] - 2s 107ms/step - loss: 0.6313 - accuracy: 0.8009 - val_loss: 0.7572 - val_accuracy: 0.7250\n",
      "Epoch 67/100\n",
      "17/17 [==============================] - 2s 107ms/step - loss: 0.6253 - accuracy: 0.8019 - val_loss: 0.7510 - val_accuracy: 0.7250\n",
      "Epoch 68/100\n",
      "17/17 [==============================] - 2s 106ms/step - loss: 0.6195 - accuracy: 0.8074 - val_loss: 0.7461 - val_accuracy: 0.7250\n",
      "Epoch 69/100\n",
      "17/17 [==============================] - 2s 106ms/step - loss: 0.6141 - accuracy: 0.8102 - val_loss: 0.7416 - val_accuracy: 0.7250\n",
      "Epoch 70/100\n",
      "17/17 [==============================] - 2s 111ms/step - loss: 0.6085 - accuracy: 0.8120 - val_loss: 0.7371 - val_accuracy: 0.7333\n",
      "Epoch 71/100\n",
      "17/17 [==============================] - 2s 111ms/step - loss: 0.6032 - accuracy: 0.8139 - val_loss: 0.7329 - val_accuracy: 0.7333\n",
      "Epoch 72/100\n",
      "17/17 [==============================] - 2s 112ms/step - loss: 0.5981 - accuracy: 0.8148 - val_loss: 0.7279 - val_accuracy: 0.7417\n",
      "Epoch 73/100\n",
      "17/17 [==============================] - 2s 107ms/step - loss: 0.5931 - accuracy: 0.8185 - val_loss: 0.7238 - val_accuracy: 0.7417\n",
      "Epoch 74/100\n",
      "17/17 [==============================] - 2s 107ms/step - loss: 0.5880 - accuracy: 0.8204 - val_loss: 0.7192 - val_accuracy: 0.7500\n",
      "Epoch 75/100\n",
      "17/17 [==============================] - 2s 107ms/step - loss: 0.5831 - accuracy: 0.8213 - val_loss: 0.7148 - val_accuracy: 0.7500\n",
      "Epoch 76/100\n",
      "17/17 [==============================] - 2s 106ms/step - loss: 0.5785 - accuracy: 0.8213 - val_loss: 0.7113 - val_accuracy: 0.7417\n",
      "Epoch 77/100\n",
      "17/17 [==============================] - 2s 112ms/step - loss: 0.5737 - accuracy: 0.8204 - val_loss: 0.7066 - val_accuracy: 0.7417\n",
      "Epoch 78/100\n",
      "17/17 [==============================] - 2s 107ms/step - loss: 0.5692 - accuracy: 0.8250 - val_loss: 0.7033 - val_accuracy: 0.7417\n",
      "Epoch 79/100\n",
      "17/17 [==============================] - 2s 111ms/step - loss: 0.5648 - accuracy: 0.8250 - val_loss: 0.6993 - val_accuracy: 0.7417\n",
      "Epoch 80/100\n",
      "17/17 [==============================] - 2s 112ms/step - loss: 0.5601 - accuracy: 0.8278 - val_loss: 0.6959 - val_accuracy: 0.7417\n",
      "Epoch 81/100\n",
      "17/17 [==============================] - 2s 106ms/step - loss: 0.5560 - accuracy: 0.8278 - val_loss: 0.6924 - val_accuracy: 0.7417\n",
      "Epoch 82/100\n",
      "17/17 [==============================] - 2s 112ms/step - loss: 0.5520 - accuracy: 0.8296 - val_loss: 0.6882 - val_accuracy: 0.7417\n",
      "Epoch 83/100\n",
      "17/17 [==============================] - 2s 106ms/step - loss: 0.5475 - accuracy: 0.8306 - val_loss: 0.6836 - val_accuracy: 0.7417\n",
      "Epoch 84/100\n",
      "17/17 [==============================] - 2s 112ms/step - loss: 0.5435 - accuracy: 0.8333 - val_loss: 0.6791 - val_accuracy: 0.7417\n",
      "Epoch 85/100\n",
      "17/17 [==============================] - 2s 112ms/step - loss: 0.5391 - accuracy: 0.8333 - val_loss: 0.6756 - val_accuracy: 0.7500\n",
      "Epoch 86/100\n",
      "17/17 [==============================] - 2s 106ms/step - loss: 0.5349 - accuracy: 0.8361 - val_loss: 0.6728 - val_accuracy: 0.7500\n",
      "Epoch 87/100\n",
      "17/17 [==============================] - 2s 111ms/step - loss: 0.5311 - accuracy: 0.8380 - val_loss: 0.6685 - val_accuracy: 0.7500\n",
      "Epoch 88/100\n",
      "17/17 [==============================] - 2s 111ms/step - loss: 0.5270 - accuracy: 0.8370 - val_loss: 0.6642 - val_accuracy: 0.7500\n",
      "Epoch 89/100\n",
      "17/17 [==============================] - 2s 106ms/step - loss: 0.5232 - accuracy: 0.8407 - val_loss: 0.6600 - val_accuracy: 0.7583\n",
      "Epoch 90/100\n",
      "17/17 [==============================] - 2s 112ms/step - loss: 0.5191 - accuracy: 0.8407 - val_loss: 0.6573 - val_accuracy: 0.7583\n",
      "Epoch 91/100\n",
      "17/17 [==============================] - 2s 106ms/step - loss: 0.5152 - accuracy: 0.8417 - val_loss: 0.6531 - val_accuracy: 0.7583\n",
      "Epoch 92/100\n",
      "17/17 [==============================] - 2s 112ms/step - loss: 0.5108 - accuracy: 0.8435 - val_loss: 0.6494 - val_accuracy: 0.7583\n",
      "Epoch 93/100\n",
      "17/17 [==============================] - 2s 111ms/step - loss: 0.5068 - accuracy: 0.8444 - val_loss: 0.6459 - val_accuracy: 0.7667\n",
      "Epoch 94/100\n",
      "17/17 [==============================] - 2s 107ms/step - loss: 0.5030 - accuracy: 0.8472 - val_loss: 0.6428 - val_accuracy: 0.7667\n",
      "Epoch 95/100\n",
      "17/17 [==============================] - 2s 106ms/step - loss: 0.4994 - accuracy: 0.8481 - val_loss: 0.6392 - val_accuracy: 0.7667\n",
      "Epoch 96/100\n",
      "17/17 [==============================] - 2s 106ms/step - loss: 0.4957 - accuracy: 0.8481 - val_loss: 0.6356 - val_accuracy: 0.7750\n",
      "Epoch 97/100\n",
      "17/17 [==============================] - 2s 106ms/step - loss: 0.4917 - accuracy: 0.8491 - val_loss: 0.6327 - val_accuracy: 0.7750\n",
      "Epoch 98/100\n",
      "17/17 [==============================] - 2s 107ms/step - loss: 0.4883 - accuracy: 0.8509 - val_loss: 0.6292 - val_accuracy: 0.7917\n",
      "Epoch 99/100\n",
      "17/17 [==============================] - 2s 106ms/step - loss: 0.4844 - accuracy: 0.8500 - val_loss: 0.6254 - val_accuracy: 0.7833\n",
      "Epoch 100/100\n",
      "17/17 [==============================] - 2s 107ms/step - loss: 0.4809 - accuracy: 0.8509 - val_loss: 0.6227 - val_accuracy: 0.7917\n"
     ]
    }
   ],
   "source": [
    "train_dataset = tf.data.Dataset.from_tensor_slices((X_train, Y_train)).batch(64)\n",
    "test_dataset = tf.data.Dataset.from_tensor_slices((X_test, Y_test)).batch(64)\n",
    "history = conv_model.fit(train_dataset, epochs=100, validation_data=test_dataset)"
   ]
  },
  {
   "cell_type": "markdown",
   "metadata": {},
   "source": [
    "<a name='5'></a>\n",
    "## 5 - History Object \n",
    "\n",
    "The history object is an output of the `.fit()` operation, and provides a record of all the loss and metric values in memory. It's stored as a dictionary that you can retrieve at `history.history`: "
   ]
  },
  {
   "cell_type": "code",
   "execution_count": 70,
   "metadata": {},
   "outputs": [
    {
     "data": {
      "text/plain": [
       "{'loss': [1.8036842346191406,\n",
       "  1.7869796752929688,\n",
       "  1.781659483909607,\n",
       "  1.7767620086669922,\n",
       "  1.7712188959121704,\n",
       "  1.7647664546966553,\n",
       "  1.756442904472351,\n",
       "  1.7458827495574951,\n",
       "  1.7331088781356812,\n",
       "  1.7175815105438232,\n",
       "  1.6983888149261475,\n",
       "  1.6751147508621216,\n",
       "  1.6487610340118408,\n",
       "  1.6194329261779785,\n",
       "  1.5864957571029663,\n",
       "  1.5509334802627563,\n",
       "  1.5141346454620361,\n",
       "  1.475113034248352,\n",
       "  1.434569239616394,\n",
       "  1.392476201057434,\n",
       "  1.352541208267212,\n",
       "  1.31416654586792,\n",
       "  1.2767893075942993,\n",
       "  1.2414830923080444,\n",
       "  1.2094287872314453,\n",
       "  1.1783474683761597,\n",
       "  1.1497247219085693,\n",
       "  1.122180700302124,\n",
       "  1.0950071811676025,\n",
       "  1.0706872940063477,\n",
       "  1.0468679666519165,\n",
       "  1.023512363433838,\n",
       "  1.002637505531311,\n",
       "  0.9802573919296265,\n",
       "  0.9603754281997681,\n",
       "  0.93923020362854,\n",
       "  0.9185704588890076,\n",
       "  0.9019843339920044,\n",
       "  0.8846962451934814,\n",
       "  0.8696814775466919,\n",
       "  0.8541324734687805,\n",
       "  0.8404746055603027,\n",
       "  0.8266195058822632,\n",
       "  0.814490020275116,\n",
       "  0.8022266626358032,\n",
       "  0.7909989356994629,\n",
       "  0.7799757122993469,\n",
       "  0.7697886824607849,\n",
       "  0.7597284317016602,\n",
       "  0.7501851916313171,\n",
       "  0.7408703565597534,\n",
       "  0.7321582436561584,\n",
       "  0.7234119772911072,\n",
       "  0.7151926159858704,\n",
       "  0.7067928910255432,\n",
       "  0.698907196521759,\n",
       "  0.691101610660553,\n",
       "  0.6837441921234131,\n",
       "  0.6765376329421997,\n",
       "  0.6694780588150024,\n",
       "  0.662671685218811,\n",
       "  0.6561088562011719,\n",
       "  0.6496467590332031,\n",
       "  0.6432797908782959,\n",
       "  0.6371488571166992,\n",
       "  0.6313136219978333,\n",
       "  0.6252546906471252,\n",
       "  0.6195283532142639,\n",
       "  0.6141141057014465,\n",
       "  0.608485996723175,\n",
       "  0.6032055616378784,\n",
       "  0.5981448292732239,\n",
       "  0.5930867791175842,\n",
       "  0.5880333185195923,\n",
       "  0.583071768283844,\n",
       "  0.5784855484962463,\n",
       "  0.5736778378486633,\n",
       "  0.5692421793937683,\n",
       "  0.5648111701011658,\n",
       "  0.560122549533844,\n",
       "  0.5560354590415955,\n",
       "  0.5519685745239258,\n",
       "  0.5475430488586426,\n",
       "  0.5435277223587036,\n",
       "  0.539063036441803,\n",
       "  0.5349045991897583,\n",
       "  0.5310978293418884,\n",
       "  0.5270150899887085,\n",
       "  0.523163378238678,\n",
       "  0.5190689563751221,\n",
       "  0.5151605010032654,\n",
       "  0.5108090043067932,\n",
       "  0.5068233013153076,\n",
       "  0.5030456185340881,\n",
       "  0.49941858649253845,\n",
       "  0.49567747116088867,\n",
       "  0.49165841937065125,\n",
       "  0.48832449316978455,\n",
       "  0.4844406545162201,\n",
       "  0.4808562099933624],\n",
       " 'accuracy': [0.1953703761100769,\n",
       "  0.19074073433876038,\n",
       "  0.21851852536201477,\n",
       "  0.25833332538604736,\n",
       "  0.28425925970077515,\n",
       "  0.3361110985279083,\n",
       "  0.3499999940395355,\n",
       "  0.36759260296821594,\n",
       "  0.3916666805744171,\n",
       "  0.4037036895751953,\n",
       "  0.42500001192092896,\n",
       "  0.4287036955356598,\n",
       "  0.4407407343387604,\n",
       "  0.45277777314186096,\n",
       "  0.45092591643333435,\n",
       "  0.4555555582046509,\n",
       "  0.4694444537162781,\n",
       "  0.47592592239379883,\n",
       "  0.4888888895511627,\n",
       "  0.5009258985519409,\n",
       "  0.5129629373550415,\n",
       "  0.5277777910232544,\n",
       "  0.5444444417953491,\n",
       "  0.5574073791503906,\n",
       "  0.5638889074325562,\n",
       "  0.5731481313705444,\n",
       "  0.5768518447875977,\n",
       "  0.5842592716217041,\n",
       "  0.595370352268219,\n",
       "  0.6018518805503845,\n",
       "  0.6194444298744202,\n",
       "  0.6296296119689941,\n",
       "  0.6361111402511597,\n",
       "  0.6398147940635681,\n",
       "  0.6416666507720947,\n",
       "  0.6555555462837219,\n",
       "  0.6620370149612427,\n",
       "  0.6787037253379822,\n",
       "  0.6805555820465088,\n",
       "  0.6870370507240295,\n",
       "  0.6907407641410828,\n",
       "  0.7027778029441833,\n",
       "  0.7120370268821716,\n",
       "  0.7148148417472839,\n",
       "  0.7231481671333313,\n",
       "  0.7240740656852722,\n",
       "  0.7287036776542664,\n",
       "  0.7333333492279053,\n",
       "  0.7379629611968994,\n",
       "  0.7416666746139526,\n",
       "  0.7481481432914734,\n",
       "  0.7527777552604675,\n",
       "  0.7546296119689941,\n",
       "  0.7546296119689941,\n",
       "  0.7620370388031006,\n",
       "  0.7638888955116272,\n",
       "  0.7648147940635681,\n",
       "  0.7722222208976746,\n",
       "  0.7740740776062012,\n",
       "  0.779629647731781,\n",
       "  0.7851851582527161,\n",
       "  0.7861111164093018,\n",
       "  0.789814829826355,\n",
       "  0.7916666865348816,\n",
       "  0.7972221970558167,\n",
       "  0.8009259104728699,\n",
       "  0.8018518686294556,\n",
       "  0.8074073791503906,\n",
       "  0.8101851940155029,\n",
       "  0.8120370507240295,\n",
       "  0.8138889074325562,\n",
       "  0.8148148059844971,\n",
       "  0.8185185194015503,\n",
       "  0.8203703761100769,\n",
       "  0.8212962746620178,\n",
       "  0.8212962746620178,\n",
       "  0.8203703761100769,\n",
       "  0.824999988079071,\n",
       "  0.824999988079071,\n",
       "  0.8277778029441833,\n",
       "  0.8277778029441833,\n",
       "  0.8296296000480652,\n",
       "  0.8305555582046509,\n",
       "  0.8333333134651184,\n",
       "  0.8333333134651184,\n",
       "  0.8361111283302307,\n",
       "  0.8379629850387573,\n",
       "  0.8370370268821716,\n",
       "  0.8407407402992249,\n",
       "  0.8407407402992249,\n",
       "  0.8416666388511658,\n",
       "  0.8435184955596924,\n",
       "  0.8444444537162781,\n",
       "  0.8472222089767456,\n",
       "  0.8481481671333313,\n",
       "  0.8481481671333313,\n",
       "  0.8490740656852722,\n",
       "  0.8509259223937988,\n",
       "  0.8500000238418579,\n",
       "  0.8509259223937988],\n",
       " 'val_loss': [1.7889269590377808,\n",
       "  1.7847764492034912,\n",
       "  1.7808672189712524,\n",
       "  1.7759709358215332,\n",
       "  1.7711365222930908,\n",
       "  1.765313744544983,\n",
       "  1.757372260093689,\n",
       "  1.7476003170013428,\n",
       "  1.7366223335266113,\n",
       "  1.7228459119796753,\n",
       "  1.7050312757492065,\n",
       "  1.6848502159118652,\n",
       "  1.6631889343261719,\n",
       "  1.639464259147644,\n",
       "  1.614661455154419,\n",
       "  1.5876314640045166,\n",
       "  1.5585607290267944,\n",
       "  1.5261764526367188,\n",
       "  1.4881482124328613,\n",
       "  1.4514299631118774,\n",
       "  1.4151482582092285,\n",
       "  1.379443883895874,\n",
       "  1.3488417863845825,\n",
       "  1.3168164491653442,\n",
       "  1.2891240119934082,\n",
       "  1.2599704265594482,\n",
       "  1.2338753938674927,\n",
       "  1.2077611684799194,\n",
       "  1.1826378107070923,\n",
       "  1.1572636365890503,\n",
       "  1.133570909500122,\n",
       "  1.1130106449127197,\n",
       "  1.094110369682312,\n",
       "  1.072662353515625,\n",
       "  1.053892731666565,\n",
       "  1.0312228202819824,\n",
       "  1.0132793188095093,\n",
       "  0.9969958066940308,\n",
       "  0.9822286367416382,\n",
       "  0.9653577208518982,\n",
       "  0.9541562795639038,\n",
       "  0.9401390552520752,\n",
       "  0.9291975498199463,\n",
       "  0.9179581999778748,\n",
       "  0.9061540961265564,\n",
       "  0.8960345983505249,\n",
       "  0.8863418102264404,\n",
       "  0.8759854435920715,\n",
       "  0.8677669763565063,\n",
       "  0.8599892258644104,\n",
       "  0.8523055911064148,\n",
       "  0.8444921970367432,\n",
       "  0.8376522064208984,\n",
       "  0.8308060765266418,\n",
       "  0.8229221105575562,\n",
       "  0.8169605135917664,\n",
       "  0.8104813098907471,\n",
       "  0.8037976622581482,\n",
       "  0.7983409762382507,\n",
       "  0.7913515567779541,\n",
       "  0.7851029634475708,\n",
       "  0.7793191075325012,\n",
       "  0.7730366587638855,\n",
       "  0.7672466039657593,\n",
       "  0.7623162865638733,\n",
       "  0.757153332233429,\n",
       "  0.7510173916816711,\n",
       "  0.7461199164390564,\n",
       "  0.7416362762451172,\n",
       "  0.7370535135269165,\n",
       "  0.7329407930374146,\n",
       "  0.7278638482093811,\n",
       "  0.7237942814826965,\n",
       "  0.7192283868789673,\n",
       "  0.7148049473762512,\n",
       "  0.7113043665885925,\n",
       "  0.7066486477851868,\n",
       "  0.7033349275588989,\n",
       "  0.6993080377578735,\n",
       "  0.695910632610321,\n",
       "  0.6923519968986511,\n",
       "  0.6882143616676331,\n",
       "  0.6836318969726562,\n",
       "  0.6791163086891174,\n",
       "  0.6756206750869751,\n",
       "  0.6727587580680847,\n",
       "  0.6684809923171997,\n",
       "  0.6641546487808228,\n",
       "  0.659969687461853,\n",
       "  0.6573360562324524,\n",
       "  0.6530592441558838,\n",
       "  0.6493583917617798,\n",
       "  0.645931601524353,\n",
       "  0.642792284488678,\n",
       "  0.6391559839248657,\n",
       "  0.6355920433998108,\n",
       "  0.6326821446418762,\n",
       "  0.6292440891265869,\n",
       "  0.6253690123558044,\n",
       "  0.6227375268936157],\n",
       " 'val_accuracy': [0.22499999403953552,\n",
       "  0.20000000298023224,\n",
       "  0.2083333283662796,\n",
       "  0.22499999403953552,\n",
       "  0.3083333373069763,\n",
       "  0.3166666626930237,\n",
       "  0.3166666626930237,\n",
       "  0.3583333194255829,\n",
       "  0.36666667461395264,\n",
       "  0.38333332538604736,\n",
       "  0.3583333194255829,\n",
       "  0.34166666865348816,\n",
       "  0.3499999940395355,\n",
       "  0.3499999940395355,\n",
       "  0.34166666865348816,\n",
       "  0.36666667461395264,\n",
       "  0.375,\n",
       "  0.4166666567325592,\n",
       "  0.42500001192092896,\n",
       "  0.4749999940395355,\n",
       "  0.5,\n",
       "  0.49166667461395264,\n",
       "  0.5,\n",
       "  0.5083333253860474,\n",
       "  0.5166666507720947,\n",
       "  0.5416666865348816,\n",
       "  0.5583333373069763,\n",
       "  0.5666666626930237,\n",
       "  0.5666666626930237,\n",
       "  0.574999988079071,\n",
       "  0.6083333492279053,\n",
       "  0.5916666388511658,\n",
       "  0.6166666746139526,\n",
       "  0.625,\n",
       "  0.6416666507720947,\n",
       "  0.6416666507720947,\n",
       "  0.6499999761581421,\n",
       "  0.6666666865348816,\n",
       "  0.6666666865348816,\n",
       "  0.6666666865348816,\n",
       "  0.6666666865348816,\n",
       "  0.6666666865348816,\n",
       "  0.6666666865348816,\n",
       "  0.6666666865348816,\n",
       "  0.6666666865348816,\n",
       "  0.675000011920929,\n",
       "  0.6833333373069763,\n",
       "  0.6833333373069763,\n",
       "  0.6916666626930237,\n",
       "  0.699999988079071,\n",
       "  0.699999988079071,\n",
       "  0.7083333134651184,\n",
       "  0.7083333134651184,\n",
       "  0.7083333134651184,\n",
       "  0.7083333134651184,\n",
       "  0.7083333134651184,\n",
       "  0.7083333134651184,\n",
       "  0.7166666388511658,\n",
       "  0.7166666388511658,\n",
       "  0.7166666388511658,\n",
       "  0.7166666388511658,\n",
       "  0.7250000238418579,\n",
       "  0.7250000238418579,\n",
       "  0.7250000238418579,\n",
       "  0.7250000238418579,\n",
       "  0.7250000238418579,\n",
       "  0.7250000238418579,\n",
       "  0.7250000238418579,\n",
       "  0.7250000238418579,\n",
       "  0.7333333492279053,\n",
       "  0.7333333492279053,\n",
       "  0.7416666746139526,\n",
       "  0.7416666746139526,\n",
       "  0.75,\n",
       "  0.75,\n",
       "  0.7416666746139526,\n",
       "  0.7416666746139526,\n",
       "  0.7416666746139526,\n",
       "  0.7416666746139526,\n",
       "  0.7416666746139526,\n",
       "  0.7416666746139526,\n",
       "  0.7416666746139526,\n",
       "  0.7416666746139526,\n",
       "  0.7416666746139526,\n",
       "  0.75,\n",
       "  0.75,\n",
       "  0.75,\n",
       "  0.75,\n",
       "  0.7583333253860474,\n",
       "  0.7583333253860474,\n",
       "  0.7583333253860474,\n",
       "  0.7583333253860474,\n",
       "  0.7666666507720947,\n",
       "  0.7666666507720947,\n",
       "  0.7666666507720947,\n",
       "  0.7749999761581421,\n",
       "  0.7749999761581421,\n",
       "  0.7916666865348816,\n",
       "  0.7833333611488342,\n",
       "  0.7916666865348816]}"
      ]
     },
     "execution_count": 70,
     "metadata": {},
     "output_type": "execute_result"
    }
   ],
   "source": [
    "history.history"
   ]
  },
  {
   "cell_type": "markdown",
   "metadata": {},
   "source": [
    "Now visualize the loss over time using `history.history`: "
   ]
  },
  {
   "cell_type": "code",
   "execution_count": 71,
   "metadata": {},
   "outputs": [
    {
     "data": {
      "text/plain": [
       "[Text(0, 0.5, 'Accuracy'), Text(0.5, 0, 'Epoch')]"
      ]
     },
     "execution_count": 71,
     "metadata": {},
     "output_type": "execute_result"
    },
    {
     "data": {
      "image/png": "[encoded data removed]",
      "text/plain": [
       "<Figure size 864x576 with 1 Axes>"
      ]
     },
     "metadata": {
      "needs_background": "light"
     },
     "output_type": "display_data"
    },
    {
     "data": {
      "image/png": "[encoded data removed]",
      "text/plain": [
       "<Figure size 864x576 with 1 Axes>"
      ]
     },
     "metadata": {
      "needs_background": "light"
     },
     "output_type": "display_data"
    }
   ],
   "source": [
    "# The history.history[\"loss\"] entry is a dictionary with as many values as epochs that the\n",
    "# model was trained on. \n",
    "df_loss_acc = pd.DataFrame(history.history)\n",
    "df_loss= df_loss_acc[['loss','val_loss']]\n",
    "df_loss.rename(columns={'loss':'train','val_loss':'validation'},inplace=True)\n",
    "df_acc= df_loss_acc[['accuracy','val_accuracy']]\n",
    "df_acc.rename(columns={'accuracy':'train','val_accuracy':'validation'},inplace=True)\n",
    "df_loss.plot(title='Model loss',figsize=(12,8)).set(xlabel='Epoch',ylabel='Loss')\n",
    "df_acc.plot(title='Model Accuracy',figsize=(12,8)).set(xlabel='Epoch',ylabel='Accuracy')"
   ]
  },
  {
   "cell_type": "markdown",
   "metadata": {},
   "source": [
    "**Congratulations**! You've finished the assignment and built two models: One that recognizes  smiles, and another that recognizes SIGN language with almost 80% accuracy on the test set. In addition to that, you now also understand the applications of two Keras APIs: Sequential and Functional. Nicely done! \n",
    "\n",
    "By now, you know a bit about how the Functional API works and may have glimpsed the possibilities. In your next assignment, you'll really get a feel for its power when you get the opportunity to build a very deep ConvNet, using ResNets! "
   ]
  },
  {
   "cell_type": "markdown",
   "metadata": {},
   "source": [
    "<a name='6'></a>\n",
    "## 6 - Bibliography\n",
    "\n",
    "You're always encouraged to read the official documentation. To that end, you can find the docs for the Sequential and Functional APIs here: \n",
    "\n",
    "https://www.tensorflow.org/guide/keras/sequential_model\n",
    "\n",
    "https://www.tensorflow.org/guide/keras/functional"
   ]
  }
 ],
 "metadata": {
  "coursera": {
   "course_slug": "convolutional-neural-networks",
   "graded_item_id": "bwbJV",
   "launcher_item_id": "0TkXB"
  },
  "kernelspec": {
   "display_name": "Python 3",
   "language": "python",
   "name": "python3"
  },
  "language_info": {
   "codemirror_mode": {
    "name": "ipython",
    "version": 3
   },
   "file_extension": ".py",
   "mimetype": "text/x-python",
   "name": "python",
   "nbconvert_exporter": "python",
   "pygments_lexer": "ipython3",
   "version": "3.7.6"
  }
 },
 "nbformat": 4,
 "nbformat_minor": 2
}
